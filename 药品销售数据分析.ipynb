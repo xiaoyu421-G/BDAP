{
 "cells": [
  {
   "cell_type": "markdown",
   "metadata": {},
   "source": [
    "对药品销售数据，利用适当的统计方法对相关数据进行月均消费次数、月均消费金额、客单价和消费趋势等几个业务指标进行分析。\n",
    "数据分析一般过程为：数据获取、数据清洗、建模分析、可视化"
   ]
  },
  {
   "cell_type": "markdown",
   "metadata": {},
   "source": [
    "#  1 数据获取\n",
    "本数据集为网络获取"
   ]
  },
  {
   "cell_type": "markdown",
   "metadata": {},
   "source": [
    "## 数据描述、导入数据"
   ]
  },
  {
   "cell_type": "code",
   "execution_count": 1,
   "metadata": {},
   "outputs": [
    {
     "data": {
      "text/html": [
       "<div>\n",
       "<style scoped>\n",
       "    .dataframe tbody tr th:only-of-type {\n",
       "        vertical-align: middle;\n",
       "    }\n",
       "\n",
       "    .dataframe tbody tr th {\n",
       "        vertical-align: top;\n",
       "    }\n",
       "\n",
       "    .dataframe thead th {\n",
       "        text-align: right;\n",
       "    }\n",
       "</style>\n",
       "<table border=\"1\" class=\"dataframe\">\n",
       "  <thead>\n",
       "    <tr style=\"text-align: right;\">\n",
       "      <th></th>\n",
       "      <th>购药时间</th>\n",
       "      <th>社保卡号</th>\n",
       "      <th>商品编码</th>\n",
       "      <th>商品名称</th>\n",
       "      <th>销售数量</th>\n",
       "      <th>应收金额</th>\n",
       "      <th>实收金额</th>\n",
       "    </tr>\n",
       "  </thead>\n",
       "  <tbody>\n",
       "    <tr>\n",
       "      <th>0</th>\n",
       "      <td>2018-01-01 星期五</td>\n",
       "      <td>*******528</td>\n",
       "      <td>236701</td>\n",
       "      <td>强力VC银翘片</td>\n",
       "      <td>6</td>\n",
       "      <td>82.8</td>\n",
       "      <td>69</td>\n",
       "    </tr>\n",
       "    <tr>\n",
       "      <th>1</th>\n",
       "      <td>2018-01-02 星期六</td>\n",
       "      <td>*******528</td>\n",
       "      <td>236701</td>\n",
       "      <td>清热解毒口服液</td>\n",
       "      <td>1</td>\n",
       "      <td>28</td>\n",
       "      <td>24.64</td>\n",
       "    </tr>\n",
       "    <tr>\n",
       "      <th>2</th>\n",
       "      <td>2018-01-06 星期三</td>\n",
       "      <td>*******2828</td>\n",
       "      <td>236701</td>\n",
       "      <td>感康</td>\n",
       "      <td>2</td>\n",
       "      <td>16.8</td>\n",
       "      <td>15</td>\n",
       "    </tr>\n",
       "    <tr>\n",
       "      <th>3</th>\n",
       "      <td>2018-01-11 星期一</td>\n",
       "      <td>*******0343428</td>\n",
       "      <td>236701</td>\n",
       "      <td>三九感冒灵</td>\n",
       "      <td>1</td>\n",
       "      <td>28</td>\n",
       "      <td>28</td>\n",
       "    </tr>\n",
       "    <tr>\n",
       "      <th>4</th>\n",
       "      <td>2018-01-15 星期五</td>\n",
       "      <td>*******54328</td>\n",
       "      <td>236701</td>\n",
       "      <td>三九感冒灵</td>\n",
       "      <td>8</td>\n",
       "      <td>224</td>\n",
       "      <td>208</td>\n",
       "    </tr>\n",
       "  </tbody>\n",
       "</table>\n",
       "</div>"
      ],
      "text/plain": [
       "             购药时间            社保卡号    商品编码     商品名称 销售数量  应收金额   实收金额\n",
       "0  2018-01-01 星期五      *******528  236701  强力VC银翘片    6  82.8     69\n",
       "1  2018-01-02 星期六      *******528  236701  清热解毒口服液    1    28  24.64\n",
       "2  2018-01-06 星期三     *******2828  236701       感康    2  16.8     15\n",
       "3  2018-01-11 星期一  *******0343428  236701    三九感冒灵    1    28     28\n",
       "4  2018-01-15 星期五    *******54328  236701    三九感冒灵    8   224    208"
      ]
     },
     "execution_count": 1,
     "metadata": {},
     "output_type": "execute_result"
    }
   ],
   "source": [
    "import numpy as np\n",
    "import pandas as pd\n",
    "from pandas import Series,DataFrame\n",
    "import warnings\n",
    "warnings.filterwarnings('ignore')\n",
    "\n",
    "filename = r'./data/朝阳医院2018年销售数据.xlsx'\n",
    "data = pd.ExcelFile(filename)\n",
    "data = data.parse('Sheet1',dtype='object')\n",
    "data.head()"
   ]
  },
  {
   "cell_type": "markdown",
   "metadata": {},
   "source": [
    "```python\n",
    "data = pd.ExcelFile(filename)\n",
    "```\n",
    "\n",
    "使用 `pd.ExcelFile` 读取 Excel 文件。这返回一个 `ExcelFile` 对象，可以从中解析多个工作表。\n",
    "\n",
    "```python\n",
    "data = data.parse('Sheet1', dtype='object')\n",
    "```\n",
    "\n",
    "从 `ExcelFile` 对象中解析名为 `'Sheet1'` 的工作表，并将数据存储到一个 DataFrame 中。这里指定了 `dtype='object'`，这意味着所有的数据都将被读取为对象类型，这有助于避免由于数据类型的自动转换导致的错误。"
   ]
  },
  {
   "cell_type": "markdown",
   "metadata": {},
   "source": [
    "#### 接下来可以查看数据的相关信息"
   ]
  },
  {
   "cell_type": "code",
   "execution_count": 2,
   "metadata": {},
   "outputs": [
    {
     "data": {
      "text/plain": [
       "(6578, 7)"
      ]
     },
     "execution_count": 2,
     "metadata": {},
     "output_type": "execute_result"
    }
   ],
   "source": [
    "# 查看行列信息\n",
    "data.shape"
   ]
  },
  {
   "cell_type": "code",
   "execution_count": 3,
   "metadata": {},
   "outputs": [
    {
     "data": {
      "text/plain": [
       "RangeIndex(start=0, stop=6578, step=1)"
      ]
     },
     "execution_count": 3,
     "metadata": {},
     "output_type": "execute_result"
    }
   ],
   "source": [
    "# 查看索引\n",
    "data.index"
   ]
  },
  {
   "cell_type": "code",
   "execution_count": 4,
   "metadata": {},
   "outputs": [
    {
     "data": {
      "text/plain": [
       "Index(['购药时间', '社保卡号', '商品编码', '商品名称', '销售数量', '应收金额', '实收金额'], dtype='object')"
      ]
     },
     "execution_count": 4,
     "metadata": {},
     "output_type": "execute_result"
    }
   ],
   "source": [
    "# 查看列名\n",
    "data.columns"
   ]
  },
  {
   "cell_type": "code",
   "execution_count": 5,
   "metadata": {},
   "outputs": [
    {
     "data": {
      "text/plain": [
       "购药时间    6576\n",
       "社保卡号    6577\n",
       "商品编码    6577\n",
       "商品名称    6577\n",
       "销售数量    6577\n",
       "应收金额    6577\n",
       "实收金额    6577\n",
       "dtype: int64"
      ]
     },
     "execution_count": 5,
     "metadata": {},
     "output_type": "execute_result"
    }
   ],
   "source": [
    "# 查看每一列的数目\n",
    "data.count()"
   ]
  },
  {
   "cell_type": "markdown",
   "metadata": {},
   "source": [
    "从上我们可以看到该数据集一共有6578行数据，其中第一行是标题，有7列。“购药时间”有6576条数据，而其余的有6577条，说明数据中存在着缺失值。“购药时间”缺失一行数据，在这里我们要对数据进行缺失值等进一步处理。"
   ]
  },
  {
   "cell_type": "markdown",
   "metadata": {},
   "source": [
    "#  2 数据清洗"
   ]
  },
  {
   "cell_type": "markdown",
   "metadata": {},
   "source": [
    "####  数据清洗的过程包括：选择子集、列名重命名、缺失值处理、数据类型转换、异常值处理以及数据排序。\n",
    "## 2.1 选择子集\n",
    "在数据分析的过程中，有可能数据量会非常大，但并不是每一列都有分析的价值，这时候就要从这些数据中选择有用的子集进行分析，这样才能提高分析的价值和效率。但是本例子中暂不需要选择子集，可以忽略这一步。"
   ]
  },
  {
   "cell_type": "markdown",
   "metadata": {},
   "source": [
    "## 2.2 列名重命名\n",
    "在数据分析的过程中，有些列名和数据容易混淆或者让人产生歧义。比如说本数据集的第一列是“购药时间”，然而我们做数据分析的时候应该是站在商家的角度来看，因此将列名改为“销售时间”就会更清晰明了。在这里可以采用rename函数来实现："
   ]
  },
  {
   "cell_type": "code",
   "execution_count": 6,
   "metadata": {},
   "outputs": [
    {
     "data": {
      "text/html": [
       "<div>\n",
       "<style scoped>\n",
       "    .dataframe tbody tr th:only-of-type {\n",
       "        vertical-align: middle;\n",
       "    }\n",
       "\n",
       "    .dataframe tbody tr th {\n",
       "        vertical-align: top;\n",
       "    }\n",
       "\n",
       "    .dataframe thead th {\n",
       "        text-align: right;\n",
       "    }\n",
       "</style>\n",
       "<table border=\"1\" class=\"dataframe\">\n",
       "  <thead>\n",
       "    <tr style=\"text-align: right;\">\n",
       "      <th></th>\n",
       "      <th>销售时间</th>\n",
       "      <th>社保卡号</th>\n",
       "      <th>商品编码</th>\n",
       "      <th>商品名称</th>\n",
       "      <th>销售数量</th>\n",
       "      <th>应收金额</th>\n",
       "      <th>实收金额</th>\n",
       "    </tr>\n",
       "  </thead>\n",
       "  <tbody>\n",
       "    <tr>\n",
       "      <th>6568</th>\n",
       "      <td>2018-04-26 星期二</td>\n",
       "      <td>*******2558628</td>\n",
       "      <td>2367011</td>\n",
       "      <td>高特灵</td>\n",
       "      <td>2</td>\n",
       "      <td>11.2</td>\n",
       "      <td>10</td>\n",
       "    </tr>\n",
       "    <tr>\n",
       "      <th>6569</th>\n",
       "      <td>2018-04-26 星期二</td>\n",
       "      <td>*******45828</td>\n",
       "      <td>2367011</td>\n",
       "      <td>高特灵</td>\n",
       "      <td>2</td>\n",
       "      <td>11.2</td>\n",
       "      <td>10</td>\n",
       "    </tr>\n",
       "    <tr>\n",
       "      <th>6570</th>\n",
       "      <td>NaN</td>\n",
       "      <td>*******8628</td>\n",
       "      <td>2367011</td>\n",
       "      <td>高特灵</td>\n",
       "      <td>10</td>\n",
       "      <td>56</td>\n",
       "      <td>56</td>\n",
       "    </tr>\n",
       "    <tr>\n",
       "      <th>6571</th>\n",
       "      <td>2018-04-25 星期二</td>\n",
       "      <td>*******</td>\n",
       "      <td>2367011</td>\n",
       "      <td>高特灵</td>\n",
       "      <td>2</td>\n",
       "      <td>11.2</td>\n",
       "      <td>9.86</td>\n",
       "    </tr>\n",
       "    <tr>\n",
       "      <th>6572</th>\n",
       "      <td>2018-04-27 星期三</td>\n",
       "      <td>*******0482828</td>\n",
       "      <td>2367011</td>\n",
       "      <td>高特灵</td>\n",
       "      <td>1</td>\n",
       "      <td>5.6</td>\n",
       "      <td>5</td>\n",
       "    </tr>\n",
       "    <tr>\n",
       "      <th>6573</th>\n",
       "      <td>2018-04-27 星期三</td>\n",
       "      <td>*******86128</td>\n",
       "      <td>2367011</td>\n",
       "      <td>高特灵</td>\n",
       "      <td>10</td>\n",
       "      <td>56</td>\n",
       "      <td>54.8</td>\n",
       "    </tr>\n",
       "    <tr>\n",
       "      <th>6574</th>\n",
       "      <td>NaN</td>\n",
       "      <td>NaN</td>\n",
       "      <td>NaN</td>\n",
       "      <td>NaN</td>\n",
       "      <td>NaN</td>\n",
       "      <td>NaN</td>\n",
       "      <td>NaN</td>\n",
       "    </tr>\n",
       "    <tr>\n",
       "      <th>6575</th>\n",
       "      <td>2018-04-27 星期三</td>\n",
       "      <td>0010087865628</td>\n",
       "      <td>2367011</td>\n",
       "      <td>高特灵</td>\n",
       "      <td>2</td>\n",
       "      <td>11.2</td>\n",
       "      <td>9.86</td>\n",
       "    </tr>\n",
       "    <tr>\n",
       "      <th>6576</th>\n",
       "      <td>2018-04-27 星期三</td>\n",
       "      <td>0013406628</td>\n",
       "      <td>2367011</td>\n",
       "      <td>高特灵</td>\n",
       "      <td>1</td>\n",
       "      <td>5.6</td>\n",
       "      <td>5</td>\n",
       "    </tr>\n",
       "    <tr>\n",
       "      <th>6577</th>\n",
       "      <td>2018-04-28 星期四</td>\n",
       "      <td>0011926928</td>\n",
       "      <td>2367011</td>\n",
       "      <td>高特灵</td>\n",
       "      <td>2</td>\n",
       "      <td>11.2</td>\n",
       "      <td>10</td>\n",
       "    </tr>\n",
       "  </tbody>\n",
       "</table>\n",
       "</div>"
      ],
      "text/plain": [
       "                销售时间            社保卡号     商品编码 商品名称 销售数量  应收金额  实收金额\n",
       "6568  2018-04-26 星期二  *******2558628  2367011  高特灵    2  11.2    10\n",
       "6569  2018-04-26 星期二    *******45828  2367011  高特灵    2  11.2    10\n",
       "6570             NaN     *******8628  2367011  高特灵   10    56    56\n",
       "6571  2018-04-25 星期二         *******  2367011  高特灵    2  11.2  9.86\n",
       "6572  2018-04-27 星期三  *******0482828  2367011  高特灵    1   5.6     5\n",
       "6573  2018-04-27 星期三    *******86128  2367011  高特灵   10    56  54.8\n",
       "6574             NaN             NaN      NaN  NaN  NaN   NaN   NaN\n",
       "6575  2018-04-27 星期三   0010087865628  2367011  高特灵    2  11.2  9.86\n",
       "6576  2018-04-27 星期三      0013406628  2367011  高特灵    1   5.6     5\n",
       "6577  2018-04-28 星期四      0011926928  2367011  高特灵    2  11.2    10"
      ]
     },
     "execution_count": 6,
     "metadata": {},
     "output_type": "execute_result"
    }
   ],
   "source": [
    "# 数据列重新命名\n",
    "data.rename(columns={'购药时间':'销售时间'},inplace=True)\n",
    "# inplace参数设置为“True”表示不创建新的对象，直接对原始对象进行修改，替换原数据\n",
    "# inplace参数设置为“False”表示对数据进行修改，创建并返回新的对象承载修改结果\n",
    "data.tail(10)"
   ]
  },
  {
   "cell_type": "markdown",
   "metadata": {},
   "source": [
    "## 2.3 缺失值处理\n",
    "获取的数据中很可能存在这缺失值，这会对分析的结果造成影响。我们经过查看数据集基本的信息，发现“购药时间”和“社保卡号”各缺失一行数据。在这里可以使用dropna函数对缺失值进行删除。"
   ]
  },
  {
   "cell_type": "code",
   "execution_count": 7,
   "metadata": {},
   "outputs": [
    {
     "name": "stdout",
     "output_type": "stream",
     "text": [
      "处理缺失值之前 (6578, 7)\n",
      "处理缺失值之后 (6576, 7)\n",
      "<class 'pandas.core.frame.DataFrame'>\n",
      "Index: 6576 entries, 0 to 6577\n",
      "Data columns (total 7 columns):\n",
      " #   Column  Non-Null Count  Dtype \n",
      "---  ------  --------------  ----- \n",
      " 0   销售时间    6576 non-null   object\n",
      " 1   社保卡号    6576 non-null   object\n",
      " 2   商品编码    6576 non-null   object\n",
      " 3   商品名称    6576 non-null   object\n",
      " 4   销售数量    6576 non-null   object\n",
      " 5   应收金额    6576 non-null   object\n",
      " 6   实收金额    6576 non-null   object\n",
      "dtypes: object(7)\n",
      "memory usage: 411.0+ KB\n"
     ]
    }
   ],
   "source": [
    "# 处理缺失值\n",
    "print('处理缺失值之前',data.shape)\n",
    "data = data.dropna(subset=['销售时间','社保卡号'],how='any')\n",
    "print('处理缺失值之后',data.shape)\n",
    "data.info()"
   ]
  },
  {
   "cell_type": "markdown",
   "metadata": {
    "vscode": {
     "languageId": "ini"
    }
   },
   "source": [
    "```python\n",
    "data = data.dropna(subset=['销售时间','社保卡号'],how='any')\n",
    "```\n",
    "\n",
    "目的是删除data数据框中在`销售时间`或`社保卡号`列上包含缺失值（NaN）的所有记录。如果这两列中的任意一列有缺失值，对应的数据行就会被移除。"
   ]
  },
  {
   "cell_type": "code",
   "execution_count": 8,
   "metadata": {},
   "outputs": [
    {
     "data": {
      "text/html": [
       "<div>\n",
       "<style scoped>\n",
       "    .dataframe tbody tr th:only-of-type {\n",
       "        vertical-align: middle;\n",
       "    }\n",
       "\n",
       "    .dataframe tbody tr th {\n",
       "        vertical-align: top;\n",
       "    }\n",
       "\n",
       "    .dataframe thead th {\n",
       "        text-align: right;\n",
       "    }\n",
       "</style>\n",
       "<table border=\"1\" class=\"dataframe\">\n",
       "  <thead>\n",
       "    <tr style=\"text-align: right;\">\n",
       "      <th></th>\n",
       "      <th>销售时间</th>\n",
       "      <th>社保卡号</th>\n",
       "      <th>商品编码</th>\n",
       "      <th>商品名称</th>\n",
       "      <th>销售数量</th>\n",
       "      <th>应收金额</th>\n",
       "      <th>实收金额</th>\n",
       "    </tr>\n",
       "  </thead>\n",
       "  <tbody>\n",
       "    <tr>\n",
       "      <th>6566</th>\n",
       "      <td>2018-04-25 星期一</td>\n",
       "      <td>*******9192628</td>\n",
       "      <td>2367011</td>\n",
       "      <td>高特灵</td>\n",
       "      <td>3</td>\n",
       "      <td>16.8</td>\n",
       "      <td>15.46</td>\n",
       "    </tr>\n",
       "    <tr>\n",
       "      <th>6567</th>\n",
       "      <td>2018-04-25 星期一</td>\n",
       "      <td>*******9350528</td>\n",
       "      <td>2367011</td>\n",
       "      <td>高特灵</td>\n",
       "      <td>2</td>\n",
       "      <td>11.2</td>\n",
       "      <td>9.86</td>\n",
       "    </tr>\n",
       "    <tr>\n",
       "      <th>6568</th>\n",
       "      <td>2018-04-26 星期二</td>\n",
       "      <td>*******2558628</td>\n",
       "      <td>2367011</td>\n",
       "      <td>高特灵</td>\n",
       "      <td>2</td>\n",
       "      <td>11.2</td>\n",
       "      <td>10</td>\n",
       "    </tr>\n",
       "    <tr>\n",
       "      <th>6569</th>\n",
       "      <td>2018-04-26 星期二</td>\n",
       "      <td>*******45828</td>\n",
       "      <td>2367011</td>\n",
       "      <td>高特灵</td>\n",
       "      <td>2</td>\n",
       "      <td>11.2</td>\n",
       "      <td>10</td>\n",
       "    </tr>\n",
       "    <tr>\n",
       "      <th>6571</th>\n",
       "      <td>2018-04-25 星期二</td>\n",
       "      <td>*******</td>\n",
       "      <td>2367011</td>\n",
       "      <td>高特灵</td>\n",
       "      <td>2</td>\n",
       "      <td>11.2</td>\n",
       "      <td>9.86</td>\n",
       "    </tr>\n",
       "    <tr>\n",
       "      <th>6572</th>\n",
       "      <td>2018-04-27 星期三</td>\n",
       "      <td>*******0482828</td>\n",
       "      <td>2367011</td>\n",
       "      <td>高特灵</td>\n",
       "      <td>1</td>\n",
       "      <td>5.6</td>\n",
       "      <td>5</td>\n",
       "    </tr>\n",
       "    <tr>\n",
       "      <th>6573</th>\n",
       "      <td>2018-04-27 星期三</td>\n",
       "      <td>*******86128</td>\n",
       "      <td>2367011</td>\n",
       "      <td>高特灵</td>\n",
       "      <td>10</td>\n",
       "      <td>56</td>\n",
       "      <td>54.8</td>\n",
       "    </tr>\n",
       "    <tr>\n",
       "      <th>6575</th>\n",
       "      <td>2018-04-27 星期三</td>\n",
       "      <td>0010087865628</td>\n",
       "      <td>2367011</td>\n",
       "      <td>高特灵</td>\n",
       "      <td>2</td>\n",
       "      <td>11.2</td>\n",
       "      <td>9.86</td>\n",
       "    </tr>\n",
       "    <tr>\n",
       "      <th>6576</th>\n",
       "      <td>2018-04-27 星期三</td>\n",
       "      <td>0013406628</td>\n",
       "      <td>2367011</td>\n",
       "      <td>高特灵</td>\n",
       "      <td>1</td>\n",
       "      <td>5.6</td>\n",
       "      <td>5</td>\n",
       "    </tr>\n",
       "    <tr>\n",
       "      <th>6577</th>\n",
       "      <td>2018-04-28 星期四</td>\n",
       "      <td>0011926928</td>\n",
       "      <td>2367011</td>\n",
       "      <td>高特灵</td>\n",
       "      <td>2</td>\n",
       "      <td>11.2</td>\n",
       "      <td>10</td>\n",
       "    </tr>\n",
       "  </tbody>\n",
       "</table>\n",
       "</div>"
      ],
      "text/plain": [
       "                销售时间            社保卡号     商品编码 商品名称 销售数量  应收金额   实收金额\n",
       "6566  2018-04-25 星期一  *******9192628  2367011  高特灵    3  16.8  15.46\n",
       "6567  2018-04-25 星期一  *******9350528  2367011  高特灵    2  11.2   9.86\n",
       "6568  2018-04-26 星期二  *******2558628  2367011  高特灵    2  11.2     10\n",
       "6569  2018-04-26 星期二    *******45828  2367011  高特灵    2  11.2     10\n",
       "6571  2018-04-25 星期二         *******  2367011  高特灵    2  11.2   9.86\n",
       "6572  2018-04-27 星期三  *******0482828  2367011  高特灵    1   5.6      5\n",
       "6573  2018-04-27 星期三    *******86128  2367011  高特灵   10    56   54.8\n",
       "6575  2018-04-27 星期三   0010087865628  2367011  高特灵    2  11.2   9.86\n",
       "6576  2018-04-27 星期三      0013406628  2367011  高特灵    1   5.6      5\n",
       "6577  2018-04-28 星期四      0011926928  2367011  高特灵    2  11.2     10"
      ]
     },
     "execution_count": 8,
     "metadata": {},
     "output_type": "execute_result"
    }
   ],
   "source": [
    "data.tail(10)\n",
    "# 可以使用tail查看尾部的10行数据，发现6570和6574行数据被删除"
   ]
  },
  {
   "cell_type": "markdown",
   "metadata": {},
   "source": [
    "## 2.4 数据类型的转换\n",
    "在导入数据的时候为了防止导入不进来，python会强制转换为object类型，然而这样的数据类型在分析的过程中不利于运算和分析。比如“销售数量”、“实收金额”等应该是浮点型。\n",
    "在“销售时间”这一列数据中存在星期这样的数据，但在数据分析过程中不需要用到，因此要把销售时间列中日期和星期使用split函数进行分割，分割后的时间，返回的是Series数据类型"
   ]
  },
  {
   "cell_type": "code",
   "execution_count": 9,
   "metadata": {},
   "outputs": [
    {
     "data": {
      "text/html": [
       "<div>\n",
       "<style scoped>\n",
       "    .dataframe tbody tr th:only-of-type {\n",
       "        vertical-align: middle;\n",
       "    }\n",
       "\n",
       "    .dataframe tbody tr th {\n",
       "        vertical-align: top;\n",
       "    }\n",
       "\n",
       "    .dataframe thead th {\n",
       "        text-align: right;\n",
       "    }\n",
       "</style>\n",
       "<table border=\"1\" class=\"dataframe\">\n",
       "  <thead>\n",
       "    <tr style=\"text-align: right;\">\n",
       "      <th></th>\n",
       "      <th>销售时间</th>\n",
       "      <th>社保卡号</th>\n",
       "      <th>商品编码</th>\n",
       "      <th>商品名称</th>\n",
       "      <th>销售数量</th>\n",
       "      <th>应收金额</th>\n",
       "      <th>实收金额</th>\n",
       "    </tr>\n",
       "  </thead>\n",
       "  <tbody>\n",
       "    <tr>\n",
       "      <th>6566</th>\n",
       "      <td>2018-04-25</td>\n",
       "      <td>*******9192628</td>\n",
       "      <td>2367011</td>\n",
       "      <td>高特灵</td>\n",
       "      <td>3</td>\n",
       "      <td>16.8</td>\n",
       "      <td>15.46</td>\n",
       "    </tr>\n",
       "    <tr>\n",
       "      <th>6567</th>\n",
       "      <td>2018-04-25</td>\n",
       "      <td>*******9350528</td>\n",
       "      <td>2367011</td>\n",
       "      <td>高特灵</td>\n",
       "      <td>2</td>\n",
       "      <td>11.2</td>\n",
       "      <td>9.86</td>\n",
       "    </tr>\n",
       "    <tr>\n",
       "      <th>6568</th>\n",
       "      <td>2018-04-26</td>\n",
       "      <td>*******2558628</td>\n",
       "      <td>2367011</td>\n",
       "      <td>高特灵</td>\n",
       "      <td>2</td>\n",
       "      <td>11.2</td>\n",
       "      <td>10</td>\n",
       "    </tr>\n",
       "    <tr>\n",
       "      <th>6569</th>\n",
       "      <td>2018-04-26</td>\n",
       "      <td>*******45828</td>\n",
       "      <td>2367011</td>\n",
       "      <td>高特灵</td>\n",
       "      <td>2</td>\n",
       "      <td>11.2</td>\n",
       "      <td>10</td>\n",
       "    </tr>\n",
       "    <tr>\n",
       "      <th>6571</th>\n",
       "      <td>2018-04-27</td>\n",
       "      <td>*******</td>\n",
       "      <td>2367011</td>\n",
       "      <td>高特灵</td>\n",
       "      <td>2</td>\n",
       "      <td>11.2</td>\n",
       "      <td>9.86</td>\n",
       "    </tr>\n",
       "    <tr>\n",
       "      <th>6572</th>\n",
       "      <td>2018-04-27</td>\n",
       "      <td>*******0482828</td>\n",
       "      <td>2367011</td>\n",
       "      <td>高特灵</td>\n",
       "      <td>1</td>\n",
       "      <td>5.6</td>\n",
       "      <td>5</td>\n",
       "    </tr>\n",
       "    <tr>\n",
       "      <th>6573</th>\n",
       "      <td>2018-04-27</td>\n",
       "      <td>*******86128</td>\n",
       "      <td>2367011</td>\n",
       "      <td>高特灵</td>\n",
       "      <td>10</td>\n",
       "      <td>56</td>\n",
       "      <td>54.8</td>\n",
       "    </tr>\n",
       "    <tr>\n",
       "      <th>6575</th>\n",
       "      <td>2018-04-28</td>\n",
       "      <td>0010087865628</td>\n",
       "      <td>2367011</td>\n",
       "      <td>高特灵</td>\n",
       "      <td>2</td>\n",
       "      <td>11.2</td>\n",
       "      <td>9.86</td>\n",
       "    </tr>\n",
       "    <tr>\n",
       "      <th>6576</th>\n",
       "      <td>NaN</td>\n",
       "      <td>0013406628</td>\n",
       "      <td>2367011</td>\n",
       "      <td>高特灵</td>\n",
       "      <td>1</td>\n",
       "      <td>5.6</td>\n",
       "      <td>5</td>\n",
       "    </tr>\n",
       "    <tr>\n",
       "      <th>6577</th>\n",
       "      <td>NaN</td>\n",
       "      <td>0011926928</td>\n",
       "      <td>2367011</td>\n",
       "      <td>高特灵</td>\n",
       "      <td>2</td>\n",
       "      <td>11.2</td>\n",
       "      <td>10</td>\n",
       "    </tr>\n",
       "  </tbody>\n",
       "</table>\n",
       "</div>"
      ],
      "text/plain": [
       "            销售时间            社保卡号     商品编码 商品名称 销售数量  应收金额   实收金额\n",
       "6566  2018-04-25  *******9192628  2367011  高特灵    3  16.8  15.46\n",
       "6567  2018-04-25  *******9350528  2367011  高特灵    2  11.2   9.86\n",
       "6568  2018-04-26  *******2558628  2367011  高特灵    2  11.2     10\n",
       "6569  2018-04-26    *******45828  2367011  高特灵    2  11.2     10\n",
       "6571  2018-04-27         *******  2367011  高特灵    2  11.2   9.86\n",
       "6572  2018-04-27  *******0482828  2367011  高特灵    1   5.6      5\n",
       "6573  2018-04-27    *******86128  2367011  高特灵   10    56   54.8\n",
       "6575  2018-04-28   0010087865628  2367011  高特灵    2  11.2   9.86\n",
       "6576         NaN      0013406628  2367011  高特灵    1   5.6      5\n",
       "6577         NaN      0011926928  2367011  高特灵    2  11.2     10"
      ]
     },
     "execution_count": 9,
     "metadata": {},
     "output_type": "execute_result"
    }
   ],
   "source": [
    "# 定义一个函数去除销售时间里的星期\n",
    "def splittime(timecolumn):\n",
    "    timelist =[]\n",
    "    for val in timecolumn:\n",
    "        data = val.split(' ')[0] #注意引号内有一个空格，否则会提示没有分隔符；[0]表示分割后去第一个值\n",
    "        timelist.append(data)\n",
    "    \n",
    "    timeSer = Series(timelist)\n",
    "    return timeSer\n",
    "\n",
    "time = data.loc[:,'销售时间']  #获取销售时间这一列数据\n",
    "timedata = splittime(time)     #调用函数去除星期，获得日期\n",
    "data.loc[:,'销售时间'] = timedata #修改销售时间这一列的数据\n",
    "data.tail(10)\n",
    "    "
   ]
  },
  {
   "cell_type": "markdown",
   "metadata": {},
   "source": [
    "这段代码定义了一个函数 `splittime`，用于从包含日期和时间的字符串中提取日期部分，并去除星期信息。\n",
    "\n",
    "```python\n",
    "def splittime(timecolumn):\n",
    "```\n",
    "\n",
    "这里定义了一个名为 `splittime` 的函数，接受一个参数 `timecolumn`，这是一个包含日期和时间信息的序列。\n",
    "\n",
    "```python\n",
    "timelist = []\n",
    "```\n",
    "\n",
    "初始化一个空列表 `timelist`，用于存储处理后的日期字符串。\n",
    "\n",
    "```python\n",
    "data = val.split(' ')[0]\n",
    "```\n",
    "\n",
    "对于每一个值 `val`，使用 `split(' ')` 方法按空格分割字符串，并取第一个元素（即日期部分）。这里假设日期和时间是由一个空格分隔的。\n",
    "\n",
    "\n",
    "```python\n",
    "timeSer = Series(timelist)\n",
    "```\n",
    "\n",
    "使用 `pandas` 的 `Series` 类型将 `timelist` 转换为一个 `Series` 对象。"
   ]
  },
  {
   "cell_type": "markdown",
   "metadata": {},
   "source": [
    "接着把切割后的日期转为时间格式，方便后面的数据统计"
   ]
  },
  {
   "cell_type": "code",
   "execution_count": 10,
   "metadata": {},
   "outputs": [
    {
     "data": {
      "text/plain": [
       "销售时间    datetime64[ns]\n",
       "社保卡号            object\n",
       "商品编码            object\n",
       "商品名称            object\n",
       "销售数量             int64\n",
       "应收金额           float64\n",
       "实收金额           float64\n",
       "dtype: object"
      ]
     },
     "execution_count": 10,
     "metadata": {},
     "output_type": "execute_result"
    }
   ],
   "source": [
    "data['销售时间'] = pd.to_datetime(data['销售时间'], format='%Y-%m-%d', errors='coerce')\n",
    "data['销售数量'] = pd.to_numeric(data['销售数量'], errors='coerce')\n",
    "data['实收金额'] = pd.to_numeric(data['实收金额'], errors='coerce')\n",
    "data['应收金额'] = pd.to_numeric(data['应收金额'], errors='coerce')\n",
    "data.dtypes"
   ]
  },
  {
   "cell_type": "markdown",
   "metadata": {},
   "source": [
    "- `pd.to_datetime`: 将'销售时间'列转换为datetime类型。\n",
    "- `format='%Y-%m-%d'`: 指定日期时间字符串的格式。在这个例子中，日期格式为 `'年-月-日'`。\n",
    "- `errors='coerce'`: 如果转换过程中遇到无法识别的日期字符串，则将其转换为 `NaT`（Not a Time）。\n",
    "- `pd.to_numeric`：将'销售数量'、'实收金额'和'应收金额'列转换为数值类型。"
   ]
  },
  {
   "cell_type": "code",
   "execution_count": 11,
   "metadata": {},
   "outputs": [
    {
     "data": {
      "text/html": [
       "<div>\n",
       "<style scoped>\n",
       "    .dataframe tbody tr th:only-of-type {\n",
       "        vertical-align: middle;\n",
       "    }\n",
       "\n",
       "    .dataframe tbody tr th {\n",
       "        vertical-align: top;\n",
       "    }\n",
       "\n",
       "    .dataframe thead th {\n",
       "        text-align: right;\n",
       "    }\n",
       "</style>\n",
       "<table border=\"1\" class=\"dataframe\">\n",
       "  <thead>\n",
       "    <tr style=\"text-align: right;\">\n",
       "      <th></th>\n",
       "      <th>销售时间</th>\n",
       "      <th>社保卡号</th>\n",
       "      <th>商品编码</th>\n",
       "      <th>商品名称</th>\n",
       "      <th>销售数量</th>\n",
       "      <th>应收金额</th>\n",
       "      <th>实收金额</th>\n",
       "    </tr>\n",
       "  </thead>\n",
       "  <tbody>\n",
       "    <tr>\n",
       "      <th>6564</th>\n",
       "      <td>2018-04-24</td>\n",
       "      <td>*******3294128</td>\n",
       "      <td>2367011</td>\n",
       "      <td>高特灵</td>\n",
       "      <td>1</td>\n",
       "      <td>5.6</td>\n",
       "      <td>5.60</td>\n",
       "    </tr>\n",
       "    <tr>\n",
       "      <th>6565</th>\n",
       "      <td>2018-04-25</td>\n",
       "      <td>*******9172628</td>\n",
       "      <td>2367011</td>\n",
       "      <td>高特灵</td>\n",
       "      <td>1</td>\n",
       "      <td>5.6</td>\n",
       "      <td>5.00</td>\n",
       "    </tr>\n",
       "    <tr>\n",
       "      <th>6566</th>\n",
       "      <td>2018-04-25</td>\n",
       "      <td>*******9192628</td>\n",
       "      <td>2367011</td>\n",
       "      <td>高特灵</td>\n",
       "      <td>3</td>\n",
       "      <td>16.8</td>\n",
       "      <td>15.46</td>\n",
       "    </tr>\n",
       "    <tr>\n",
       "      <th>6567</th>\n",
       "      <td>2018-04-25</td>\n",
       "      <td>*******9350528</td>\n",
       "      <td>2367011</td>\n",
       "      <td>高特灵</td>\n",
       "      <td>2</td>\n",
       "      <td>11.2</td>\n",
       "      <td>9.86</td>\n",
       "    </tr>\n",
       "    <tr>\n",
       "      <th>6568</th>\n",
       "      <td>2018-04-26</td>\n",
       "      <td>*******2558628</td>\n",
       "      <td>2367011</td>\n",
       "      <td>高特灵</td>\n",
       "      <td>2</td>\n",
       "      <td>11.2</td>\n",
       "      <td>10.00</td>\n",
       "    </tr>\n",
       "    <tr>\n",
       "      <th>6569</th>\n",
       "      <td>2018-04-26</td>\n",
       "      <td>*******45828</td>\n",
       "      <td>2367011</td>\n",
       "      <td>高特灵</td>\n",
       "      <td>2</td>\n",
       "      <td>11.2</td>\n",
       "      <td>10.00</td>\n",
       "    </tr>\n",
       "    <tr>\n",
       "      <th>6571</th>\n",
       "      <td>2018-04-27</td>\n",
       "      <td>*******</td>\n",
       "      <td>2367011</td>\n",
       "      <td>高特灵</td>\n",
       "      <td>2</td>\n",
       "      <td>11.2</td>\n",
       "      <td>9.86</td>\n",
       "    </tr>\n",
       "    <tr>\n",
       "      <th>6572</th>\n",
       "      <td>2018-04-27</td>\n",
       "      <td>*******0482828</td>\n",
       "      <td>2367011</td>\n",
       "      <td>高特灵</td>\n",
       "      <td>1</td>\n",
       "      <td>5.6</td>\n",
       "      <td>5.00</td>\n",
       "    </tr>\n",
       "    <tr>\n",
       "      <th>6573</th>\n",
       "      <td>2018-04-27</td>\n",
       "      <td>*******86128</td>\n",
       "      <td>2367011</td>\n",
       "      <td>高特灵</td>\n",
       "      <td>10</td>\n",
       "      <td>56.0</td>\n",
       "      <td>54.80</td>\n",
       "    </tr>\n",
       "    <tr>\n",
       "      <th>6575</th>\n",
       "      <td>2018-04-28</td>\n",
       "      <td>0010087865628</td>\n",
       "      <td>2367011</td>\n",
       "      <td>高特灵</td>\n",
       "      <td>2</td>\n",
       "      <td>11.2</td>\n",
       "      <td>9.86</td>\n",
       "    </tr>\n",
       "  </tbody>\n",
       "</table>\n",
       "</div>"
      ],
      "text/plain": [
       "           销售时间            社保卡号     商品编码 商品名称  销售数量  应收金额   实收金额\n",
       "6564 2018-04-24  *******3294128  2367011  高特灵     1   5.6   5.60\n",
       "6565 2018-04-25  *******9172628  2367011  高特灵     1   5.6   5.00\n",
       "6566 2018-04-25  *******9192628  2367011  高特灵     3  16.8  15.46\n",
       "6567 2018-04-25  *******9350528  2367011  高特灵     2  11.2   9.86\n",
       "6568 2018-04-26  *******2558628  2367011  高特灵     2  11.2  10.00\n",
       "6569 2018-04-26    *******45828  2367011  高特灵     2  11.2  10.00\n",
       "6571 2018-04-27         *******  2367011  高特灵     2  11.2   9.86\n",
       "6572 2018-04-27  *******0482828  2367011  高特灵     1   5.6   5.00\n",
       "6573 2018-04-27    *******86128  2367011  高特灵    10  56.0  54.80\n",
       "6575 2018-04-28   0010087865628  2367011  高特灵     2  11.2   9.86"
      ]
     },
     "execution_count": 11,
     "metadata": {},
     "output_type": "execute_result"
    }
   ],
   "source": [
    "# 在进行日期时间类型转换的时候，不符合日期格式的数据将被换成None值，需要再次删除“销售时间”和“社保卡号”上的空行\n",
    "data = data.dropna(subset=['销售时间','社保卡号'],how='any')\n",
    "data.tail(10)"
   ]
  },
  {
   "cell_type": "markdown",
   "metadata": {},
   "source": [
    "## 2.5 异常值处理\n",
    "到这一步，我们可以利用describe()函数查看数据是否还存在异常"
   ]
  },
  {
   "cell_type": "code",
   "execution_count": 12,
   "metadata": {},
   "outputs": [
    {
     "data": {
      "text/html": [
       "<div>\n",
       "<style scoped>\n",
       "    .dataframe tbody tr th:only-of-type {\n",
       "        vertical-align: middle;\n",
       "    }\n",
       "\n",
       "    .dataframe tbody tr th {\n",
       "        vertical-align: top;\n",
       "    }\n",
       "\n",
       "    .dataframe thead th {\n",
       "        text-align: right;\n",
       "    }\n",
       "</style>\n",
       "<table border=\"1\" class=\"dataframe\">\n",
       "  <thead>\n",
       "    <tr style=\"text-align: right;\">\n",
       "      <th></th>\n",
       "      <th>销售时间</th>\n",
       "      <th>销售数量</th>\n",
       "      <th>应收金额</th>\n",
       "      <th>实收金额</th>\n",
       "    </tr>\n",
       "  </thead>\n",
       "  <tbody>\n",
       "    <tr>\n",
       "      <th>count</th>\n",
       "      <td>6551</td>\n",
       "      <td>6551.000000</td>\n",
       "      <td>6551.000000</td>\n",
       "      <td>6551.000000</td>\n",
       "    </tr>\n",
       "    <tr>\n",
       "      <th>mean</th>\n",
       "      <td>2018-04-10 21:07:26.771485696</td>\n",
       "      <td>2.384369</td>\n",
       "      <td>50.437094</td>\n",
       "      <td>46.273250</td>\n",
       "    </tr>\n",
       "    <tr>\n",
       "      <th>min</th>\n",
       "      <td>2018-01-01 00:00:00</td>\n",
       "      <td>-10.000000</td>\n",
       "      <td>-374.000000</td>\n",
       "      <td>-374.000000</td>\n",
       "    </tr>\n",
       "    <tr>\n",
       "      <th>25%</th>\n",
       "      <td>2018-02-23 00:00:00</td>\n",
       "      <td>1.000000</td>\n",
       "      <td>14.000000</td>\n",
       "      <td>12.320000</td>\n",
       "    </tr>\n",
       "    <tr>\n",
       "      <th>50%</th>\n",
       "      <td>2018-04-15 00:00:00</td>\n",
       "      <td>2.000000</td>\n",
       "      <td>28.000000</td>\n",
       "      <td>26.500000</td>\n",
       "    </tr>\n",
       "    <tr>\n",
       "      <th>75%</th>\n",
       "      <td>2018-05-28 00:00:00</td>\n",
       "      <td>2.000000</td>\n",
       "      <td>59.600000</td>\n",
       "      <td>53.000000</td>\n",
       "    </tr>\n",
       "    <tr>\n",
       "      <th>max</th>\n",
       "      <td>2018-07-19 00:00:00</td>\n",
       "      <td>50.000000</td>\n",
       "      <td>2950.000000</td>\n",
       "      <td>2650.000000</td>\n",
       "    </tr>\n",
       "    <tr>\n",
       "      <th>std</th>\n",
       "      <td>NaN</td>\n",
       "      <td>2.374874</td>\n",
       "      <td>87.685693</td>\n",
       "      <td>81.048548</td>\n",
       "    </tr>\n",
       "  </tbody>\n",
       "</table>\n",
       "</div>"
      ],
      "text/plain": [
       "                                销售时间         销售数量         应收金额         实收金额\n",
       "count                           6551  6551.000000  6551.000000  6551.000000\n",
       "mean   2018-04-10 21:07:26.771485696     2.384369    50.437094    46.273250\n",
       "min              2018-01-01 00:00:00   -10.000000  -374.000000  -374.000000\n",
       "25%              2018-02-23 00:00:00     1.000000    14.000000    12.320000\n",
       "50%              2018-04-15 00:00:00     2.000000    28.000000    26.500000\n",
       "75%              2018-05-28 00:00:00     2.000000    59.600000    53.000000\n",
       "max              2018-07-19 00:00:00    50.000000  2950.000000  2650.000000\n",
       "std                              NaN     2.374874    87.685693    81.048548"
      ]
     },
     "execution_count": 12,
     "metadata": {},
     "output_type": "execute_result"
    }
   ],
   "source": [
    "data.describe()\n",
    "#我们可以看出最小值min出现了负数，这些都是异常值，这里要去掉异常值，排除异常值造成影响。\n",
    "#我们可以创建一个掩模，来筛选出正常的数据，也就是大于0的值，排除“销售数量”这一列中的负值"
   ]
  },
  {
   "cell_type": "code",
   "execution_count": 13,
   "metadata": {},
   "outputs": [
    {
     "data": {
      "text/html": [
       "<div>\n",
       "<style scoped>\n",
       "    .dataframe tbody tr th:only-of-type {\n",
       "        vertical-align: middle;\n",
       "    }\n",
       "\n",
       "    .dataframe tbody tr th {\n",
       "        vertical-align: top;\n",
       "    }\n",
       "\n",
       "    .dataframe thead th {\n",
       "        text-align: right;\n",
       "    }\n",
       "</style>\n",
       "<table border=\"1\" class=\"dataframe\">\n",
       "  <thead>\n",
       "    <tr style=\"text-align: right;\">\n",
       "      <th></th>\n",
       "      <th>销售时间</th>\n",
       "      <th>销售数量</th>\n",
       "      <th>应收金额</th>\n",
       "      <th>实收金额</th>\n",
       "    </tr>\n",
       "  </thead>\n",
       "  <tbody>\n",
       "    <tr>\n",
       "      <th>count</th>\n",
       "      <td>6508</td>\n",
       "      <td>6508.000000</td>\n",
       "      <td>6508.000000</td>\n",
       "      <td>6508.000000</td>\n",
       "    </tr>\n",
       "    <tr>\n",
       "      <th>mean</th>\n",
       "      <td>2018-04-10 20:49:02.839582208</td>\n",
       "      <td>2.405501</td>\n",
       "      <td>50.915688</td>\n",
       "      <td>46.716323</td>\n",
       "    </tr>\n",
       "    <tr>\n",
       "      <th>min</th>\n",
       "      <td>2018-01-01 00:00:00</td>\n",
       "      <td>1.000000</td>\n",
       "      <td>1.200000</td>\n",
       "      <td>0.030000</td>\n",
       "    </tr>\n",
       "    <tr>\n",
       "      <th>25%</th>\n",
       "      <td>2018-02-23 00:00:00</td>\n",
       "      <td>1.000000</td>\n",
       "      <td>14.000000</td>\n",
       "      <td>12.600000</td>\n",
       "    </tr>\n",
       "    <tr>\n",
       "      <th>50%</th>\n",
       "      <td>2018-04-15 00:00:00</td>\n",
       "      <td>2.000000</td>\n",
       "      <td>28.000000</td>\n",
       "      <td>27.000000</td>\n",
       "    </tr>\n",
       "    <tr>\n",
       "      <th>75%</th>\n",
       "      <td>2018-05-28 00:00:00</td>\n",
       "      <td>2.000000</td>\n",
       "      <td>59.600000</td>\n",
       "      <td>53.000000</td>\n",
       "    </tr>\n",
       "    <tr>\n",
       "      <th>max</th>\n",
       "      <td>2018-07-19 00:00:00</td>\n",
       "      <td>50.000000</td>\n",
       "      <td>2950.000000</td>\n",
       "      <td>2650.000000</td>\n",
       "    </tr>\n",
       "    <tr>\n",
       "      <th>std</th>\n",
       "      <td>NaN</td>\n",
       "      <td>2.364213</td>\n",
       "      <td>87.639578</td>\n",
       "      <td>80.987855</td>\n",
       "    </tr>\n",
       "  </tbody>\n",
       "</table>\n",
       "</div>"
      ],
      "text/plain": [
       "                                销售时间         销售数量         应收金额         实收金额\n",
       "count                           6508  6508.000000  6508.000000  6508.000000\n",
       "mean   2018-04-10 20:49:02.839582208     2.405501    50.915688    46.716323\n",
       "min              2018-01-01 00:00:00     1.000000     1.200000     0.030000\n",
       "25%              2018-02-23 00:00:00     1.000000    14.000000    12.600000\n",
       "50%              2018-04-15 00:00:00     2.000000    28.000000    27.000000\n",
       "75%              2018-05-28 00:00:00     2.000000    59.600000    53.000000\n",
       "max              2018-07-19 00:00:00    50.000000  2950.000000  2650.000000\n",
       "std                              NaN     2.364213    87.639578    80.987855"
      ]
     },
     "execution_count": 13,
     "metadata": {},
     "output_type": "execute_result"
    }
   ],
   "source": [
    "#销售量出现了负数，很显然数据是异常的，应去掉以排除异常值的影响\n",
    "delete = data.loc[:,'销售数量']>0\n",
    "data = data.loc[delete,:]\n",
    "data.describe()"
   ]
  },
  {
   "cell_type": "markdown",
   "metadata": {},
   "source": [
    "这段代码用于筛选出 `'销售数量'` 列大于 0 的行，并计算这些行的基本统计描述。\n",
    "\n",
    "```python\n",
    "delete = data.loc[:, '销售数量'] > 0\n",
    "```\n",
    "\n",
    "创建一个布尔索引`delete`。这个索引用于标记data数据框中'销售数量'列大于 0 的行。\n",
    "\n",
    "```python\n",
    "data = data.loc[delete, :]\n",
    "```\n",
    "\n",
    "根据布尔索引`delete`筛选出data数据框中'销售数量'大于 0 的行，并将筛选后的数据重新赋值给`data`。"
   ]
  },
  {
   "cell_type": "markdown",
   "metadata": {},
   "source": [
    "#### 接下来可以利用drop_duplicates()函数删除重复的数据"
   ]
  },
  {
   "cell_type": "code",
   "execution_count": 14,
   "metadata": {},
   "outputs": [],
   "source": [
    "# 删除重复的数据\n",
    "data = data.drop_duplicates(subset=['销售时间','社保卡号'])"
   ]
  },
  {
   "cell_type": "markdown",
   "metadata": {},
   "source": [
    "这段代码的主要功能是：从 DataFrame `data` 中删除 `'销售时间'` 和 `'社保卡号'` 列组合重复的行。"
   ]
  },
  {
   "cell_type": "markdown",
   "metadata": {},
   "source": [
    "## 2.6 数据排序\n",
    "此时时间是没有按顺序排列的，所以还是需要排序一下，排序之后索引会被打乱，所以也需要重置一下索引。其中by表示按哪一列进行排序，ascending=True表示升序排列，ascending=False表示降序排列"
   ]
  },
  {
   "cell_type": "code",
   "execution_count": 15,
   "metadata": {},
   "outputs": [
    {
     "data": {
      "text/html": [
       "<div>\n",
       "<style scoped>\n",
       "    .dataframe tbody tr th:only-of-type {\n",
       "        vertical-align: middle;\n",
       "    }\n",
       "\n",
       "    .dataframe tbody tr th {\n",
       "        vertical-align: top;\n",
       "    }\n",
       "\n",
       "    .dataframe thead th {\n",
       "        text-align: right;\n",
       "    }\n",
       "</style>\n",
       "<table border=\"1\" class=\"dataframe\">\n",
       "  <thead>\n",
       "    <tr style=\"text-align: right;\">\n",
       "      <th></th>\n",
       "      <th>销售时间</th>\n",
       "      <th>社保卡号</th>\n",
       "      <th>商品编码</th>\n",
       "      <th>商品名称</th>\n",
       "      <th>销售数量</th>\n",
       "      <th>应收金额</th>\n",
       "      <th>实收金额</th>\n",
       "    </tr>\n",
       "  </thead>\n",
       "  <tbody>\n",
       "    <tr>\n",
       "      <th>0</th>\n",
       "      <td>2018-01-01</td>\n",
       "      <td>*******528</td>\n",
       "      <td>236701</td>\n",
       "      <td>强力VC银翘片</td>\n",
       "      <td>6</td>\n",
       "      <td>82.8</td>\n",
       "      <td>69.0</td>\n",
       "    </tr>\n",
       "    <tr>\n",
       "      <th>1</th>\n",
       "      <td>2018-01-01</td>\n",
       "      <td>*******83128</td>\n",
       "      <td>861464</td>\n",
       "      <td>复方利血平片(复方降压片)</td>\n",
       "      <td>1</td>\n",
       "      <td>2.5</td>\n",
       "      <td>2.2</td>\n",
       "    </tr>\n",
       "    <tr>\n",
       "      <th>2</th>\n",
       "      <td>2018-01-01</td>\n",
       "      <td>*******0654328</td>\n",
       "      <td>861458</td>\n",
       "      <td>复方利血平氨苯蝶啶片(北京降压0号)</td>\n",
       "      <td>1</td>\n",
       "      <td>10.3</td>\n",
       "      <td>9.2</td>\n",
       "    </tr>\n",
       "    <tr>\n",
       "      <th>3</th>\n",
       "      <td>2018-01-01</td>\n",
       "      <td>*******91628</td>\n",
       "      <td>861456</td>\n",
       "      <td>酒石酸美托洛尔片(倍他乐克)</td>\n",
       "      <td>2</td>\n",
       "      <td>14.0</td>\n",
       "      <td>12.6</td>\n",
       "    </tr>\n",
       "    <tr>\n",
       "      <th>4</th>\n",
       "      <td>2018-01-01</td>\n",
       "      <td>*******6728</td>\n",
       "      <td>865099</td>\n",
       "      <td>硝苯地平片(心痛定)</td>\n",
       "      <td>2</td>\n",
       "      <td>3.4</td>\n",
       "      <td>3.0</td>\n",
       "    </tr>\n",
       "    <tr>\n",
       "      <th>...</th>\n",
       "      <td>...</td>\n",
       "      <td>...</td>\n",
       "      <td>...</td>\n",
       "      <td>...</td>\n",
       "      <td>...</td>\n",
       "      <td>...</td>\n",
       "      <td>...</td>\n",
       "    </tr>\n",
       "    <tr>\n",
       "      <th>5286</th>\n",
       "      <td>2018-07-19</td>\n",
       "      <td>*******2828</td>\n",
       "      <td>865425</td>\n",
       "      <td>G苯磺酸氨氯地平片(6盒/疗程)</td>\n",
       "      <td>6</td>\n",
       "      <td>69.0</td>\n",
       "      <td>57.5</td>\n",
       "    </tr>\n",
       "    <tr>\n",
       "      <th>5287</th>\n",
       "      <td>2018-07-19</td>\n",
       "      <td>*******9136328</td>\n",
       "      <td>865099</td>\n",
       "      <td>硝苯地平片(心痛定)</td>\n",
       "      <td>2</td>\n",
       "      <td>2.4</td>\n",
       "      <td>2.0</td>\n",
       "    </tr>\n",
       "    <tr>\n",
       "      <th>5288</th>\n",
       "      <td>2018-07-19</td>\n",
       "      <td>*******6928</td>\n",
       "      <td>865099</td>\n",
       "      <td>硝苯地平片(心痛定)</td>\n",
       "      <td>2</td>\n",
       "      <td>2.4</td>\n",
       "      <td>2.0</td>\n",
       "    </tr>\n",
       "    <tr>\n",
       "      <th>5289</th>\n",
       "      <td>2018-07-19</td>\n",
       "      <td>*******9383628</td>\n",
       "      <td>2367011</td>\n",
       "      <td>开博通</td>\n",
       "      <td>2</td>\n",
       "      <td>62.0</td>\n",
       "      <td>56.0</td>\n",
       "    </tr>\n",
       "    <tr>\n",
       "      <th>5290</th>\n",
       "      <td>2018-07-19</td>\n",
       "      <td>*******4256528</td>\n",
       "      <td>871158</td>\n",
       "      <td>厄贝沙坦片(吉加)</td>\n",
       "      <td>2</td>\n",
       "      <td>34.0</td>\n",
       "      <td>30.0</td>\n",
       "    </tr>\n",
       "  </tbody>\n",
       "</table>\n",
       "<p>5291 rows × 7 columns</p>\n",
       "</div>"
      ],
      "text/plain": [
       "           销售时间            社保卡号     商品编码                商品名称  销售数量  应收金额  实收金额\n",
       "0    2018-01-01      *******528   236701             强力VC银翘片     6  82.8  69.0\n",
       "1    2018-01-01    *******83128   861464       复方利血平片(复方降压片)     1   2.5   2.2\n",
       "2    2018-01-01  *******0654328   861458  复方利血平氨苯蝶啶片(北京降压0号)     1  10.3   9.2\n",
       "3    2018-01-01    *******91628   861456      酒石酸美托洛尔片(倍他乐克)     2  14.0  12.6\n",
       "4    2018-01-01     *******6728   865099          硝苯地平片(心痛定)     2   3.4   3.0\n",
       "...         ...             ...      ...                 ...   ...   ...   ...\n",
       "5286 2018-07-19     *******2828   865425    G苯磺酸氨氯地平片(6盒/疗程)     6  69.0  57.5\n",
       "5287 2018-07-19  *******9136328   865099          硝苯地平片(心痛定)     2   2.4   2.0\n",
       "5288 2018-07-19     *******6928   865099          硝苯地平片(心痛定)     2   2.4   2.0\n",
       "5289 2018-07-19  *******9383628  2367011                 开博通     2  62.0  56.0\n",
       "5290 2018-07-19  *******4256528   871158           厄贝沙坦片(吉加)     2  34.0  30.0\n",
       "\n",
       "[5291 rows x 7 columns]"
      ]
     },
     "execution_count": 15,
     "metadata": {},
     "output_type": "execute_result"
    }
   ],
   "source": [
    "data = data.sort_values(by='销售时间',ascending=True)\n",
    "data = data.reset_index(drop=True)\n",
    "data"
   ]
  },
  {
   "cell_type": "markdown",
   "metadata": {},
   "source": [
    "```python\n",
    "data = data.reset_index(drop=True)\n",
    "```\n",
    "\n",
    "这里使用 `reset_index` 方法重新设置 DataFrame 的索引。\n",
    "`drop=True`: 指定是否删除旧的索引列。如果设置为 `True`，则旧的索引不会被保留为一列；如果设置为 `False`，则旧的索引会被保留为新的一列。"
   ]
  },
  {
   "cell_type": "markdown",
   "metadata": {},
   "source": [
    "到这里，我们的数据清洗工作顺利完成。"
   ]
  },
  {
   "cell_type": "markdown",
   "metadata": {},
   "source": [
    "#  3 建模分析\n",
    "对数据进行处理之后，需要利用数据构建模型，计算相关的业务指标并用可视化的方式呈现结果。\n"
   ]
  },
  {
   "cell_type": "markdown",
   "metadata": {},
   "source": [
    "## 3.1 月均消费次数\n",
    "月均消费次数 = 总消费次数/月份数"
   ]
  },
  {
   "cell_type": "code",
   "execution_count": 16,
   "metadata": {},
   "outputs": [
    {
     "name": "stdout",
     "output_type": "stream",
     "text": [
      "共计消费 5291  次\n",
      "共计 6  个月\n",
      "月均消费 881  次\n"
     ]
    }
   ],
   "source": [
    "# 计算月均消费次数\n",
    "# 查看多少行，也就是总计多少次消费\n",
    "num = data.shape[0]\n",
    "print('共计消费',num,' 次')\n",
    "\n",
    "#计算月份数\n",
    "start = data.loc[0,'销售时间']\n",
    "end = data.loc[num-1,'销售时间']\n",
    "\n",
    "totaldays =(end-start).days\n",
    "months = totaldays//30\n",
    "print('共计',months,' 个月')\n",
    "\n",
    "#月均消费次数\n",
    "count_month_mean = num//months\n",
    "print('月均消费',count_month_mean,' 次')"
   ]
  },
  {
   "cell_type": "markdown",
   "metadata": {},
   "source": [
    "```python\n",
    "num = data.shape[0]\n",
    "```\n",
    "\n",
    "这里首先计算 DataFrame `data` 的行数，即消费次数总数。`data.shape[0]` 返回 DataFrame 的行数。\n",
    "\n",
    "```python\n",
    "start = data.loc[0, '销售时间']\n",
    "end = data.loc[num-1, '销售时间']\n",
    "```\n",
    "\n",
    "这里选取 `'销售时间'` 列的第一个和最后一个值，分别作为开始时间和结束时间。\n",
    "\n",
    "```python\n",
    "totaldays = (end - start).days\n",
    "```\n",
    "\n",
    "计算从开始时间到结束时间的总天数。这里使用了 `datetime` 对象的减法操作，得到一个 `Timedelta` 对象，然后使用 `.days` 属性获取总天数。\n",
    "\n",
    "```python\n",
    "months = totaldays // 30\n",
    "```\n",
    "\n",
    "使用整除运算符 `//` 来估算总月份数。这里假设每个月有 30 天，因此将总天数除以 30 来估算总月份数。\n",
    "\n",
    "```python\n",
    "count_month_mean = num // months\n",
    "```\n",
    "\n",
    "使用整除运算符 `//` 来计算月均消费次数。这里将消费次数总数除以估算的总月份数来得到月均消费次数。"
   ]
  },
  {
   "cell_type": "markdown",
   "metadata": {},
   "source": [
    "## 3.2 月均消费金额\n",
    "    \n",
    "月均消费金额 = 总消费金额 / 月份数"
   ]
  },
  {
   "cell_type": "code",
   "execution_count": 17,
   "metadata": {},
   "outputs": [
    {
     "name": "stdout",
     "output_type": "stream",
     "text": [
      "月均消费金额 38994.0  元\n"
     ]
    }
   ],
   "source": [
    "# 月均消费金额\n",
    "money = data.loc[:,'实收金额'].sum()\n",
    "money_month_mean = money//months\n",
    "print('月均消费金额',money_month_mean,' 元')"
   ]
  },
  {
   "cell_type": "markdown",
   "metadata": {},
   "source": [
    "## 3.3 客单价\n",
    "\n",
    "客单价 = 总消费金额 / 总消费次数"
   ]
  },
  {
   "cell_type": "code",
   "execution_count": 18,
   "metadata": {},
   "outputs": [
    {
     "name": "stdout",
     "output_type": "stream",
     "text": [
      "客单价为 44.21926478926479  元\n"
     ]
    }
   ],
   "source": [
    "# 客单价\n",
    "p = money/num\n",
    "print('客单价为',p,' 元')"
   ]
  },
  {
   "cell_type": "markdown",
   "metadata": {},
   "source": [
    "#  4 可视化\n",
    "## 4.1 消费趋势\n",
    "\n",
    "消费趋势图呈现出每天销售药品的情况。\n",
    "首先导入相关的包："
   ]
  },
  {
   "cell_type": "code",
   "execution_count": 19,
   "metadata": {},
   "outputs": [],
   "source": [
    "# 消费趋势图\n",
    "import matplotlib\n",
    "import matplotlib.pyplot as plt\n",
    "# 画图是用于显示中文字符\n",
    "from pylab import mpl\n",
    "mpl.rcParams['font.sans-serif']=['SimHei'] # 设置字体为黑体\n",
    "# 在操作之前先复制一份数据，防止影响后清洗后的数据\n",
    "groupData = data\n",
    "groupData\n",
    "#设置销售时间为索引\n",
    "groupData.index=groupData[\"销售时间\"] # 这一步非常关键，否则按月分组无法进行"
   ]
  },
  {
   "cell_type": "code",
   "execution_count": 20,
   "metadata": {},
   "outputs": [
    {
     "data": {
      "image/png": "[encoded data removed]",
      "text/plain": [
       "<Figure size 640x480 with 1 Axes>"
      ]
     },
     "metadata": {},
     "output_type": "display_data"
    }
   ],
   "source": [
    "# 接下来就可以画图了\n",
    "plt.plot(groupData['实收金额'])\n",
    "plt.title('按天消费金额图')\n",
    "plt.xlabel('时间')\n",
    "plt.ylabel('实收金额')\n",
    "plt.show()"
   ]
  },
  {
   "cell_type": "markdown",
   "metadata": {},
   "source": [
    "```python\n",
    "plt.plot(groupData['实收金额'])\n",
    "```\n",
    "\n",
    "这一行使用 `plt.plot()` 函数绘制了一个简单的折线图，其中 x 轴默认是索引值（在这里是 \"销售时间\"），y 轴是 `'实收金额'` 列的数据。由于 `groupData` 的索引已经被设置为 `\"销售时间\"`，所以 x 轴将会自动使用这个时间序列。"
   ]
  },
  {
   "cell_type": "markdown",
   "metadata": {},
   "source": [
    "从结果可以看出，每天消费总额差异较大，除了个别天出现比较大笔的消费，大部分人消费情况维持在500元以内。"
   ]
  },
  {
   "cell_type": "markdown",
   "metadata": {},
   "source": [
    "## 4.2 每月消费金额"
   ]
  },
  {
   "cell_type": "code",
   "execution_count": 21,
   "metadata": {},
   "outputs": [
    {
     "data": {
      "image/png": "[encoded data removed]",
      "text/plain": [
       "<Figure size 640x480 with 1 Axes>"
      ]
     },
     "metadata": {},
     "output_type": "display_data"
    }
   ],
   "source": [
    "#将销售时间聚合按月分组,计算每个月的消费总额\n",
    "#monthDF=groupData.groupby(groupData.index.month).sum()\n",
    "# 假设 '实收金额' 是你想要聚合的唯一数值列\n",
    "monthDF = groupData.groupby(groupData.index.month)['实收金额'].sum()\n",
    "#描绘按月消费金额图\n",
    "plt.plot(monthDF)\n",
    "plt.title(\"按月消费金额图\")\n",
    "plt.xlabel(\"月份\")\n",
    "plt.ylabel(\"实收金额\")\n",
    "plt.show()"
   ]
  },
  {
   "cell_type": "markdown",
   "metadata": {},
   "source": [
    "```python\n",
    "monthDF = groupData.groupby(groupData.index.month)['实收金额'].sum()\n",
    "```\n",
    "\n",
    "- 这一行代码首先使用 `groupby()` 方法对 `groupData` DataFrame 的索引进行分组。这里假设 `groupData` 的索引已经被设置为 `\"销售时间\"`，并且该列已经被正确地转换为了日期时间类型。\n",
    "- `groupData.index.month` 获取每个索引项（即日期时间）的月份部分，然后基于这些月份对数据进行分组。\n",
    "- `sum()` 方法用于对每个分组内的 `'实收金额'` 列求和，得到每个月份的总消费金额。结果存储在新的 DataFrame `monthDF` 中。\n",
    "\n",
    "```python\n",
    "plt.plot(monthDF['实收金额'])\n",
    "```\n",
    "\n",
    "- 这一行使用 `plt.plot()` 函数绘制一个简单的折线图，其中 x 轴默认是 `monthDF` 的索引（即月份），y 轴是 `'实收金额'` 列的数据。\n",
    "\n",
    "需要注意的是，`groupby(groupData.index.month)` 只获取月份信息，因此 x 轴上只会有数字（1-12），代表每年的各个月份。如果你想要更详细的月份标签，例如“Jan”、“Feb”等，或者想要跨年的月份也能够正确显示，你可能需要对 x 轴的标签做一些额外的处理。\n",
    "\n",
    "另外，`groupby(groupData.index.month)` 的结果可能会导致月份不连续的情况出现，尤其是在数据量较小或者某些月份没有数据的情况下。如果需要，你可以使用 `pd.Grouper(freq='M')` 或者其他方法来确保每个月都有记录。"
   ]
  },
  {
   "cell_type": "markdown",
   "metadata": {},
   "source": [
    "结果显示，7月消费金额最少，这是因为7月份的数据不完整，所以不具参考价值。\n",
    "1月、4月、5月和6月的月消费金额差异不大，2月和3月的消费金额迅速降低，这可能是2月和3月处于春节期间，大部分人都回家过年的原因。"
   ]
  },
  {
   "cell_type": "markdown",
   "metadata": {},
   "source": [
    "## 4.3 分析药品销售情况\n",
    "\n",
    "对“商品名称”和“销售数量”这两列数据进行聚合为Series形式，方便后面统计，并按降序排序："
   ]
  },
  {
   "cell_type": "code",
   "execution_count": 22,
   "metadata": {
    "scrolled": true
   },
   "outputs": [
    {
     "name": "stdout",
     "output_type": "stream",
     "text": [
      "                   销售数量\n",
      "商品名称                   \n",
      "苯磺酸氨氯地平片(安内真)      1558\n",
      "开博通                1328\n",
      "酒石酸美托洛尔片(倍他乐克)      929\n",
      "苯磺酸氨氯地平片(络活喜)       669\n",
      "硝苯地平片(心痛定)          613\n",
      "复方利血平片(复方降压片)       437\n",
      "高特灵                 349\n",
      "缬沙坦胶囊(代文)           315\n",
      "非洛地平缓释片(波依定)        307\n",
      "G琥珀酸美托洛尔缓释片(倍他乐克)   295\n"
     ]
    }
   ],
   "source": [
    "#聚合统计各种药品的销量\n",
    "medicine=groupData[['商品名称','销售数量']]\n",
    "re_medicine=medicine.groupby('商品名称')[['销售数量']].sum()\n",
    "#对药品销售数量按降序排序\n",
    "re_medicine=re_medicine.sort_values(by=\"销售数量\",ascending=False)\n",
    "#截取销售量最多的前十种药品，并用条形图可视化\n",
    "top_medicine=re_medicine.iloc[:10,:]\n",
    "print(top_medicine)"
   ]
  },
  {
   "cell_type": "markdown",
   "metadata": {},
   "source": [
    "这段代码是从一个名为 `groupData` 的 DataFrame 中提取药品名称和销售数量，然后对这些数据进行聚合统计，排序，并选取销量最高的前十种药品，并打印出这些药品的信息。\n",
    "\n",
    "```python\n",
    "medicine = groupData[['商品名称', '销售数量']]\n",
    "```\n",
    "\n",
    "- 这一行创建了一个新的 DataFrame `medicine`，仅包含 `groupData` 中的两列：“商品名称” 和 “销售数量”。\n",
    "\n",
    "```python\n",
    "re_medicine = medicine.groupby('商品名称')[['销售数量']].sum()\n",
    "```\n",
    "\n",
    "- 这一行使用 `groupby()` 方法按照 “商品名称” 对 `medicine` DataFrame 进行分组。\n",
    "- `[['销售数量']]` 指定要对 “销售数量” 列进行操作。\n",
    "- `sum()` 方法对每个分组内的 “销售数量” 列求和，得到每种药品的总销量。结果被存储在一个新的 DataFrame `re_medicine` 中。\n",
    "\n",
    "```python\n",
    "top_medicine = re_medicine.iloc[:10, :]\n",
    "```\n",
    "\n",
    "- 这一行使用 `iloc` 属性从 `re_medicine` DataFrame 中选取前 10 行。\n",
    "- `iloc[:10, :]` 表示选取前 10 行的所有列。这里的 `:` 表示选取所有列。"
   ]
  },
  {
   "cell_type": "markdown",
   "metadata": {},
   "source": [
    "截取销售数量最多的前十种药品，并用条形图展示结果："
   ]
  },
  {
   "cell_type": "code",
   "execution_count": 23,
   "metadata": {},
   "outputs": [
    {
     "data": {
      "image/png": "[encoded data removed]",
      "text/plain": [
       "<Figure size 640x480 with 1 Axes>"
      ]
     },
     "metadata": {},
     "output_type": "display_data"
    }
   ],
   "source": [
    "top_medicine.plot(kind='bar')\n",
    "plt.title(\"药品销售前十\")\n",
    "plt.xlabel(\"药品种类\")\n",
    "plt.ylabel(\"销售数量\")\n",
    "plt.legend(loc=0)\n",
    "plt.show()\n",
    "# 得到销售数量最多的前十种药品信息，这些信息将会有助于加强医院对药房的管理。"
   ]
  },
  {
   "cell_type": "markdown",
   "metadata": {},
   "source": [
    "```python\n",
    "plt.legend(loc=0)\n",
    "```\n",
    "\n",
    "这一行设置了图例的位置。`loc=0` 表示让 Matplotlib 自动选择最佳位置放置图例。由于我们之前已经设置 `legend=False`，这里实际上不会显示图例，因此这一行代码可以省略。"
   ]
  },
  {
   "cell_type": "markdown",
   "metadata": {},
   "source": [
    "最后，这些信息有助于加强医院对药房的管理，这确实是正确的。通过了解哪些药品最畅销，医院可以更好地管理库存、采购计划以及药物定价策略等。"
   ]
  }
 ],
 "metadata": {
  "kernelspec": {
   "display_name": "Python 3",
   "language": "python",
   "name": "python3"
  },
  "language_info": {
   "codemirror_mode": {
    "name": "ipython",
    "version": 3
   },
   "file_extension": ".py",
   "mimetype": "text/x-python",
   "name": "python",
   "nbconvert_exporter": "python",
   "pygments_lexer": "ipython3",
   "version": "3.12.5"
  },
  "toc": {
   "base_numbering": 1,
   "nav_menu": {},
   "number_sections": true,
   "sideBar": true,
   "skip_h1_title": false,
   "title_cell": "Table of Contents",
   "title_sidebar": "Contents",
   "toc_cell": false,
   "toc_position": {},
   "toc_section_display": true,
   "toc_window_display": true
  }
 },
 "nbformat": 4,
 "nbformat_minor": 4
}
